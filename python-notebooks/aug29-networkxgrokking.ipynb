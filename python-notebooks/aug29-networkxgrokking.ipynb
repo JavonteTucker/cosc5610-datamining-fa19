{
 "cells": [
  {
   "cell_type": "code",
   "execution_count": 5,
   "metadata": {
    "collapsed": true
   },
   "outputs": [],
   "source": [
    "import networkx as nx\n",
    "import math"
   ]
  },
  {
   "cell_type": "code",
   "execution_count": 3,
   "metadata": {
    "collapsed": true
   },
   "outputs": [],
   "source": [
    "#representing networks as graph\n",
    "\n",
    "#regular graphs\n",
    "g = nx.Graph()\n",
    "\n",
    "#digraphs\n",
    "g = nx.DiGraph()\n",
    "\n",
    "#multigraphs\n",
    "g = nx.MultiGraph()\n",
    "\n",
    "#multidigraphs\n",
    "g = nx.MultiDiGraph()"
   ]
  },
  {
   "cell_type": "code",
   "execution_count": 4,
   "metadata": {
    "collapsed": true
   },
   "outputs": [],
   "source": [
    "#adding and removing edges\n",
    "g = nx.Graph()\n",
    "g.add_edge(1, 2) # default edge data=1\n",
    "g.add_edge(2, 3, weight=0.9) # specify edge data"
   ]
  },
  {
   "cell_type": "code",
   "execution_count": 6,
   "metadata": {
    "collapsed": true
   },
   "outputs": [],
   "source": [
    "#adding attributes\n",
    "g.add_edge('y', 'x', function=math.cos)\n",
    "g.add_node(math.cos) # any hashable can be a node"
   ]
  },
  {
   "cell_type": "code",
   "execution_count": 7,
   "metadata": {
    "collapsed": true
   },
   "outputs": [],
   "source": [
    "#iteratively adding edges\n",
    "elist = [(1, 2), (2, 3), (1, 4), (4, 2)]\n",
    "g.add_edges_from(elist)\n",
    "elist = [('a', 'b', 5.0), ('b', 'c', 3.0), ('a', 'c', 1.0), ('c', 'd', 7.3)] \n",
    "g.add_weighted_edges_from(elist)"
   ]
  },
  {
   "cell_type": "code",
   "execution_count": 10,
   "metadata": {
    "collapsed": false
   },
   "outputs": [],
   "source": [
    "#playing with nodes\n",
    "#add a node\n",
    "g.add_node(1)\n",
    "\n",
    "#add a list of nodes\n",
    "g.add_nodes_from([2, 3])\n",
    "\n",
    "#add iterable container of nodes from another graph\n",
    "h = nx.path_graph(10)\n",
    "g.add_nodes_from(h)\n",
    "\n",
    "#add another node as a graph\n",
    "g.add_node(h)\n"
   ]
  },
  {
   "cell_type": "code",
   "execution_count": 13,
   "metadata": {
    "collapsed": false
   },
   "outputs": [],
   "source": [
    "#playing with edges\n",
    "\n",
    "#adding 1 edge at a time\n",
    "g.add_edge(1, 2)\n",
    "\n",
    "e = (2, 3)\n",
    "\n",
    "g.add_edge(*e) # unpack edge tuple*\n",
    "\n",
    "\n",
    "#adding a list of edges\n",
    "g.add_edges_from([(1, 2), (1, 3)])"
   ]
  },
  {
   "cell_type": "code",
   "execution_count": null,
   "metadata": {
    "collapsed": true
   },
   "outputs": [],
   "source": []
  }
 ],
 "metadata": {
  "kernelspec": {
   "display_name": "Python 3",
   "language": "python",
   "name": "python3"
  },
  "language_info": {
   "codemirror_mode": {
    "name": "ipython",
    "version": 3
   },
   "file_extension": ".py",
   "mimetype": "text/x-python",
   "name": "python",
   "nbconvert_exporter": "python",
   "pygments_lexer": "ipython3",
   "version": "3.6.0"
  }
 },
 "nbformat": 4,
 "nbformat_minor": 2
}
